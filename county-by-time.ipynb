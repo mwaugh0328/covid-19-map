{
 "cells": [
  {
   "cell_type": "code",
   "execution_count": 151,
   "metadata": {},
   "outputs": [],
   "source": [
    "import pandas as pd             # data package\n",
    "import matplotlib.pyplot as plt # graphics \n",
    "import datetime as dt\n",
    "import numpy as np\n",
    "import matplotlib.dates as mdates\n",
    "\n",
    "# these are new \n",
    "import requests, io             # internet and input tools  \n",
    "import zipfile as zf            # zip file tools \n",
    "import shutil                   # file management tools \n",
    "import os                       # operating system tools (check files)"
   ]
  },
  {
   "cell_type": "code",
   "execution_count": 152,
   "metadata": {},
   "outputs": [],
   "source": [
    "file_path = os.getcwd()\n",
    "\n",
    "plt.style.use('ggplot')"
   ]
  },
  {
   "cell_type": "code",
   "execution_count": 153,
   "metadata": {},
   "outputs": [],
   "source": [
    "df = pd.read_csv(\"https://github.com/nytimes/covid-19-data/raw/master/us-counties.csv\")\n",
    "\n",
    "nyc = df.county == \"New York City\"\n",
    "df.loc[nyc,\"fips\"] = 36061\n",
    "\n",
    "df[\"date\"] = pd.to_datetime(df[\"date\"], format = \"%Y-%m-%d\")\n",
    "\n",
    "latest_date = df.date.max()"
   ]
  },
  {
   "cell_type": "code",
   "execution_count": 154,
   "metadata": {},
   "outputs": [
    {
     "name": "stdout",
     "output_type": "stream",
     "text": [
      "2020-06-23 00:00:00\n"
     ]
    }
   ],
   "source": [
    "print(latest_date)"
   ]
  },
  {
   "cell_type": "code",
   "execution_count": 155,
   "metadata": {},
   "outputs": [],
   "source": [
    "grp = df.groupby([\"fips\"])"
   ]
  },
  {
   "cell_type": "code",
   "execution_count": 156,
   "metadata": {},
   "outputs": [],
   "source": [
    "def plot_time_county(df, outcome):\n",
    "    \n",
    "    doc_path = file_path + \"\\\\docs\\\\\" + outcome\n",
    "    \n",
    "    background = \"#F5F5F5\"\n",
    "    \n",
    "    fig, ax = plt.subplots(1,1,figsize = (7,4))\n",
    "    \n",
    "    fig.set_facecolor(\"#F5F5F5\")\n",
    "\n",
    "    ax.plot(df.date,df[outcome].diff(1).rolling(7).mean(), alpha = 0.99, color = \"firebrick\", linewidth = 3\n",
    "           , label = \"7 day moving average\")\n",
    "    \n",
    "    ax.fill_between(df.date,df[outcome].diff(1).rolling(7).mean(), alpha = 0.5, color = \"firebrick\")\n",
    "    \n",
    "    ax.bar(df.date,df[outcome].diff(1), alpha = 0.80, color = \"red\")\n",
    "\n",
    "    ax.set_xlim(dt.datetime(2020,3,8),latest_date + dt.timedelta(days=1))\n",
    "    \n",
    "    ax.set_ylim(0,)\n",
    "\n",
    "    ax.spines[\"right\"].set_visible(False)\n",
    "\n",
    "    ax.spines[\"top\"].set_visible(False)\n",
    "\n",
    "    ax.set_ylabel(\"New Covid-19 \" + outcome.capitalize(), fontsize = 10)\n",
    "    \n",
    "    ax.legend(loc='upper left', frameon=False)\n",
    "\n",
    "#https://matplotlib.org/3.1.0/gallery/ticks_and_spines/date_concise_formatter.html\n",
    "# makes the dates more concise\n",
    "    locator = mdates.AutoDateLocator(minticks=3, maxticks=12)\n",
    "    formatter = mdates.ConciseDateFormatter(locator)\n",
    "    ax.xaxis.set_major_locator(locator)\n",
    "    ax.xaxis.set_major_formatter(formatter)\n",
    "\n",
    "    place = df.county.iloc[0] + \" County, \" + df.state.iloc[0]\n",
    "\n",
    "    #plt.title(place, fontsize = 12, loc= \"center\")\n",
    "\n",
    "    outfp = doc_path + \"\\\\county_\" + str(df.fips.iloc[0].astype(int)) + \".png\"\n",
    "    #print(outfp)\n",
    "    plt.savefig(outfp, bbox_inches = \"tight\", dip = 1200, facecolor=background)\n",
    "    #plt.show()\n",
    "    plt.close(fig)\n",
    "    "
   ]
  },
  {
   "cell_type": "code",
   "execution_count": 157,
   "metadata": {},
   "outputs": [],
   "source": [
    "dftest = grp.get_group(27053)"
   ]
  },
  {
   "cell_type": "code",
   "execution_count": 158,
   "metadata": {},
   "outputs": [],
   "source": [
    "plot_time_county(dftest, \"deaths\")"
   ]
  },
  {
   "cell_type": "code",
   "execution_count": 159,
   "metadata": {},
   "outputs": [
    {
     "data": {
      "text/html": [
       "<div>\n",
       "<style scoped>\n",
       "    .dataframe tbody tr th:only-of-type {\n",
       "        vertical-align: middle;\n",
       "    }\n",
       "\n",
       "    .dataframe tbody tr th {\n",
       "        vertical-align: top;\n",
       "    }\n",
       "\n",
       "    .dataframe thead th {\n",
       "        text-align: right;\n",
       "    }\n",
       "</style>\n",
       "<table border=\"1\" class=\"dataframe\">\n",
       "  <thead>\n",
       "    <tr style=\"text-align: right;\">\n",
       "      <th></th>\n",
       "    </tr>\n",
       "  </thead>\n",
       "  <tbody>\n",
       "  </tbody>\n",
       "</table>\n",
       "</div>"
      ],
      "text/plain": [
       "Empty DataFrame\n",
       "Columns: []\n",
       "Index: []"
      ]
     },
     "execution_count": 159,
     "metadata": {},
     "output_type": "execute_result"
    }
   ],
   "source": [
    "plt.ioff()\n",
    "\n",
    "grp.apply(plot_time_county, outcome = \"deaths\")"
   ]
  },
  {
   "cell_type": "code",
   "execution_count": 160,
   "metadata": {},
   "outputs": [
    {
     "name": "stderr",
     "output_type": "stream",
     "text": [
      "C:\\Users\\mwaugh\\AppData\\Local\\Continuum\\anaconda3\\lib\\site-packages\\ipykernel_launcher.py:20: UserWarning: Attempting to set identical bottom == top == 0 results in singular transformations; automatically expanding.\n",
      "C:\\Users\\mwaugh\\AppData\\Local\\Continuum\\anaconda3\\lib\\site-packages\\ipykernel_launcher.py:20: UserWarning: Attempting to set identical bottom == top == 0 results in singular transformations; automatically expanding.\n"
     ]
    },
    {
     "data": {
      "text/html": [
       "<div>\n",
       "<style scoped>\n",
       "    .dataframe tbody tr th:only-of-type {\n",
       "        vertical-align: middle;\n",
       "    }\n",
       "\n",
       "    .dataframe tbody tr th {\n",
       "        vertical-align: top;\n",
       "    }\n",
       "\n",
       "    .dataframe thead th {\n",
       "        text-align: right;\n",
       "    }\n",
       "</style>\n",
       "<table border=\"1\" class=\"dataframe\">\n",
       "  <thead>\n",
       "    <tr style=\"text-align: right;\">\n",
       "      <th></th>\n",
       "    </tr>\n",
       "  </thead>\n",
       "  <tbody>\n",
       "  </tbody>\n",
       "</table>\n",
       "</div>"
      ],
      "text/plain": [
       "Empty DataFrame\n",
       "Columns: []\n",
       "Index: []"
      ]
     },
     "execution_count": 160,
     "metadata": {},
     "output_type": "execute_result"
    }
   ],
   "source": [
    "grp.apply(plot_time_county, outcome = \"cases\")"
   ]
  },
  {
   "cell_type": "code",
   "execution_count": null,
   "metadata": {},
   "outputs": [],
   "source": []
  }
 ],
 "metadata": {
  "kernelspec": {
   "display_name": "Python 3",
   "language": "python",
   "name": "python3"
  },
  "language_info": {
   "codemirror_mode": {
    "name": "ipython",
    "version": 3
   },
   "file_extension": ".py",
   "mimetype": "text/x-python",
   "name": "python",
   "nbconvert_exporter": "python",
   "pygments_lexer": "ipython3",
   "version": "3.7.7"
  }
 },
 "nbformat": 4,
 "nbformat_minor": 4
}
