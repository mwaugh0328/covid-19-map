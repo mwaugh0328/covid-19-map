{
 "cells": [
  {
   "cell_type": "code",
   "execution_count": 625,
   "metadata": {},
   "outputs": [],
   "source": [
    "import pandas as pd             # data package\n",
    "import matplotlib.pyplot as plt # graphics \n",
    "import datetime as dt\n",
    "import numpy as np\n",
    "\n",
    "# these are new \n",
    "import requests, io             # internet and input tools  \n",
    "import zipfile as zf            # zip file tools \n",
    "import shutil                   # file management tools \n",
    "import os                       # operating system tools (check files)\n",
    "\n",
    "from census import Census # This is new...\n",
    "\n",
    "import geopandas as gpd # this is the main geopandas \n",
    "from shapely.geometry import Point, Polygon # also needed\n",
    "\n",
    "import pyarrow as pa\n",
    "import pyarrow.parquet as pq\n",
    "\n",
    "##########################\n",
    "# Then this stuff below allows us to make a nice inset\n",
    "\n",
    "\n",
    "from mpl_toolkits.axes_grid1.inset_locator import zoomed_inset_axes\n",
    "from mpl_toolkits.axes_grid1.inset_locator import mark_inset"
   ]
  },
  {
   "cell_type": "markdown",
   "metadata": {},
   "source": [
    "## Interactive Covid-19 Cases by County Map With County Time Series\n",
    "\n",
    "The code below creates an interactive map illustrating Covid-19 cases by county and new the time series of cases by county. The end result generates a live map so that when you use the hover tool and the hover over a county, it plots the time series of case in addition to  reporting the  county name, cases, deaths, and population. There is also a zoom in feature so one can zoom into, say NYC region.  \n",
    "\n",
    "The underlying Covid-19 data is from reporting done by the New York Times and hosted in their data repository on github.\n",
    "\n",
    "### Overview of code\n",
    "\n",
    "Thansk to the [@nytimes](https://github.com/nytimes/covid-19-data). This proved to be very easy given my existing code associated with my project on the [trade war](https://github.com/mwaugh0328/consumption_and_tradewar). The code proceeds in several steps:\n",
    "\n",
    "1. Grabs the nytimes data. Their repository provides detailed explanations regarding geography etc. NYC in particular is treated as one region, not by county. \n",
    "\n",
    "2. Merge nytimes data with the geopandas dataframe, add in US Census data (currently just population), then some simple cleaning to prepare for maping.\n",
    "\n",
    "3. Create a live/html map with hover tool and zoom using Bokeh's packages. The output will be an .html file with can be posted on a website etc. It is currently posted at [https://mwaugh0328.github.io/covid-19-map/us_covid_map.html](https://mwaugh0328.github.io/covid-19-map/us_covid_map.html)\n",
    "\n",
    "### Prerequisites\n",
    "\n",
    "- The code below assumes you have the correct shapefiles. If not, or you don't know what I'm talking about run ``download_shapefiles.ipynb`` which pull the correct shapefiles to make the map.\n",
    "\n",
    "- The hover tool here incoperates figures generated from the ``county-by-time.ipynb`` notebook."
   ]
  },
  {
   "cell_type": "markdown",
   "metadata": {},
   "source": [
    "---\n",
    "\n",
    "### Step \\#1. Grab data from [nytimes repository](https://github.com/nytimes/covid-19-data)\n",
    "\n",
    "Thank you for organizing this. It's very simple..."
   ]
  },
  {
   "cell_type": "code",
   "execution_count": 626,
   "metadata": {},
   "outputs": [],
   "source": [
    "df = pd.read_csv(\"https://github.com/nytimes/covid-19-data/raw/master/us-counties.csv\")"
   ]
  },
  {
   "cell_type": "code",
   "execution_count": 627,
   "metadata": {},
   "outputs": [],
   "source": [
    "# For NYC we will assing it the Mannhatten fips code\n",
    "# Then below to the other new york city counties we \n",
    "# assing them the same case and death data as New York city as a whole\n",
    "\n",
    "nyc = df.county == \"New York City\"\n",
    "df.loc[nyc,\"fips\"] = 36061"
   ]
  },
  {
   "cell_type": "code",
   "execution_count": 628,
   "metadata": {},
   "outputs": [],
   "source": [
    "# Convert the date to a datetime object\n",
    "df[\"date\"] = pd.to_datetime(df[\"date\"], format = \"%Y-%m-%d\")"
   ]
  },
  {
   "cell_type": "code",
   "execution_count": 629,
   "metadata": {},
   "outputs": [],
   "source": [
    "latest_date = df.date.max()"
   ]
  },
  {
   "cell_type": "code",
   "execution_count": 630,
   "metadata": {},
   "outputs": [],
   "source": [
    "latest_date = latest_date.strftime(\"%m/%d/%Y\")"
   ]
  },
  {
   "cell_type": "code",
   "execution_count": 631,
   "metadata": {},
   "outputs": [],
   "source": [
    "df.set_index(\"date\", inplace = True)"
   ]
  },
  {
   "cell_type": "code",
   "execution_count": 632,
   "metadata": {},
   "outputs": [],
   "source": [
    "dfall = df.loc[latest_date].copy()"
   ]
  },
  {
   "cell_type": "markdown",
   "metadata": {},
   "source": [
    "**Important data note** The nytimes dataset reports **cumulative** cases, not the number reported each day. The very first version of this code messed this up. Now it is correct."
   ]
  },
  {
   "cell_type": "code",
   "execution_count": 633,
   "metadata": {},
   "outputs": [
    {
     "data": {
      "text/html": [
       "<div>\n",
       "<style scoped>\n",
       "    .dataframe tbody tr th:only-of-type {\n",
       "        vertical-align: middle;\n",
       "    }\n",
       "\n",
       "    .dataframe tbody tr th {\n",
       "        vertical-align: top;\n",
       "    }\n",
       "\n",
       "    .dataframe thead th {\n",
       "        text-align: right;\n",
       "    }\n",
       "</style>\n",
       "<table border=\"1\" class=\"dataframe\">\n",
       "  <thead>\n",
       "    <tr style=\"text-align: right;\">\n",
       "      <th></th>\n",
       "      <th>county</th>\n",
       "      <th>state</th>\n",
       "      <th>fips</th>\n",
       "      <th>cases</th>\n",
       "      <th>deaths</th>\n",
       "    </tr>\n",
       "    <tr>\n",
       "      <th>date</th>\n",
       "      <th></th>\n",
       "      <th></th>\n",
       "      <th></th>\n",
       "      <th></th>\n",
       "      <th></th>\n",
       "    </tr>\n",
       "  </thead>\n",
       "  <tbody>\n",
       "    <tr>\n",
       "      <th>2020-07-11</th>\n",
       "      <td>New York City</td>\n",
       "      <td>New York</td>\n",
       "      <td>36061.0</td>\n",
       "      <td>223382</td>\n",
       "      <td>22750</td>\n",
       "    </tr>\n",
       "  </tbody>\n",
       "</table>\n",
       "</div>"
      ],
      "text/plain": [
       "                   county     state     fips   cases  deaths\n",
       "date                                                        \n",
       "2020-07-11  New York City  New York  36061.0  223382   22750"
      ]
     },
     "execution_count": 633,
     "metadata": {},
     "output_type": "execute_result"
    }
   ],
   "source": [
    "dfall[dfall.county == \"New York City\"]"
   ]
  },
  {
   "cell_type": "code",
   "execution_count": 634,
   "metadata": {},
   "outputs": [
    {
     "name": "stdout",
     "output_type": "stream",
     "text": [
      "Total US Covid-19 Cases 3260525 as of 07/11/2020\n"
     ]
    }
   ],
   "source": [
    "total = dfall.cases.sum()\n",
    "\n",
    "print(\"Total US Covid-19 Cases\", total, \"as of\", latest_date)"
   ]
  },
  {
   "cell_type": "code",
   "execution_count": 635,
   "metadata": {},
   "outputs": [
    {
     "name": "stdout",
     "output_type": "stream",
     "text": [
      "Total US Covid-19 Deaths 134579 as of 07/11/2020\n"
     ]
    }
   ],
   "source": [
    "total_deaths = dfall.deaths.sum()\n",
    "\n",
    "print(\"Total US Covid-19 Deaths\", total_deaths, \"as of\", latest_date)"
   ]
  },
  {
   "cell_type": "code",
   "execution_count": 636,
   "metadata": {
    "scrolled": true
   },
   "outputs": [
    {
     "data": {
      "text/html": [
       "<div>\n",
       "<style scoped>\n",
       "    .dataframe tbody tr th:only-of-type {\n",
       "        vertical-align: middle;\n",
       "    }\n",
       "\n",
       "    .dataframe tbody tr th {\n",
       "        vertical-align: top;\n",
       "    }\n",
       "\n",
       "    .dataframe thead th {\n",
       "        text-align: right;\n",
       "    }\n",
       "</style>\n",
       "<table border=\"1\" class=\"dataframe\">\n",
       "  <thead>\n",
       "    <tr style=\"text-align: right;\">\n",
       "      <th></th>\n",
       "      <th>county</th>\n",
       "      <th>state</th>\n",
       "      <th>fips</th>\n",
       "      <th>cases</th>\n",
       "      <th>deaths</th>\n",
       "    </tr>\n",
       "    <tr>\n",
       "      <th>date</th>\n",
       "      <th></th>\n",
       "      <th></th>\n",
       "      <th></th>\n",
       "      <th></th>\n",
       "      <th></th>\n",
       "    </tr>\n",
       "  </thead>\n",
       "  <tbody>\n",
       "    <tr>\n",
       "      <th>2020-07-11</th>\n",
       "      <td>New York City</td>\n",
       "      <td>New York</td>\n",
       "      <td>36061.0</td>\n",
       "      <td>223382</td>\n",
       "      <td>22750</td>\n",
       "    </tr>\n",
       "  </tbody>\n",
       "</table>\n",
       "</div>"
      ],
      "text/plain": [
       "                   county     state     fips   cases  deaths\n",
       "date                                                        \n",
       "2020-07-11  New York City  New York  36061.0  223382   22750"
      ]
     },
     "execution_count": 636,
     "metadata": {},
     "output_type": "execute_result"
    }
   ],
   "source": [
    "dfall[dfall[\"fips\"] == 36061]"
   ]
  },
  {
   "cell_type": "code",
   "execution_count": 637,
   "metadata": {},
   "outputs": [],
   "source": [
    "dfall.dropna(subset = [\"fips\"], inplace = True)"
   ]
  },
  {
   "cell_type": "code",
   "execution_count": 638,
   "metadata": {},
   "outputs": [],
   "source": [
    "file_path = os.getcwd()\n",
    "\n",
    "doc_path = file_path + \"\\\\docs\\\\\"\n",
    "\n",
    "html_path = \"https://mwaugh0328.github.io/covid-19-map/cases/\"\n",
    "\n",
    "dfall[\"cases_file_location\"] = html_path + \"county_\" + dfall.fips.astype(int).astype(str) + \".png\"\n",
    "\n",
    "html_path = \"https://mwaugh0328.github.io/covid-19-map/deaths/\"\n",
    "\n",
    "dfall[\"deaths_file_location\"] = html_path + \"county_\" + dfall.fips.astype(int).astype(str) + \".png\"\n",
    "#dfall[\"file_location\"] = doc_path + \"county_\" + dfall.fips.astype(int).astype(str) + \".png\""
   ]
  },
  {
   "cell_type": "code",
   "execution_count": 639,
   "metadata": {},
   "outputs": [
    {
     "data": {
      "text/html": [
       "<div>\n",
       "<style scoped>\n",
       "    .dataframe tbody tr th:only-of-type {\n",
       "        vertical-align: middle;\n",
       "    }\n",
       "\n",
       "    .dataframe tbody tr th {\n",
       "        vertical-align: top;\n",
       "    }\n",
       "\n",
       "    .dataframe thead th {\n",
       "        text-align: right;\n",
       "    }\n",
       "</style>\n",
       "<table border=\"1\" class=\"dataframe\">\n",
       "  <thead>\n",
       "    <tr style=\"text-align: right;\">\n",
       "      <th></th>\n",
       "      <th>county</th>\n",
       "      <th>state</th>\n",
       "      <th>fips</th>\n",
       "      <th>cases</th>\n",
       "      <th>deaths</th>\n",
       "      <th>cases_file_location</th>\n",
       "      <th>deaths_file_location</th>\n",
       "    </tr>\n",
       "    <tr>\n",
       "      <th>date</th>\n",
       "      <th></th>\n",
       "      <th></th>\n",
       "      <th></th>\n",
       "      <th></th>\n",
       "      <th></th>\n",
       "      <th></th>\n",
       "      <th></th>\n",
       "    </tr>\n",
       "  </thead>\n",
       "  <tbody>\n",
       "    <tr>\n",
       "      <th>2020-07-11</th>\n",
       "      <td>Autauga</td>\n",
       "      <td>Alabama</td>\n",
       "      <td>1001.0</td>\n",
       "      <td>684</td>\n",
       "      <td>15</td>\n",
       "      <td>https://mwaugh0328.github.io/covid-19-map/case...</td>\n",
       "      <td>https://mwaugh0328.github.io/covid-19-map/deat...</td>\n",
       "    </tr>\n",
       "    <tr>\n",
       "      <th>2020-07-11</th>\n",
       "      <td>Baldwin</td>\n",
       "      <td>Alabama</td>\n",
       "      <td>1003.0</td>\n",
       "      <td>1224</td>\n",
       "      <td>12</td>\n",
       "      <td>https://mwaugh0328.github.io/covid-19-map/case...</td>\n",
       "      <td>https://mwaugh0328.github.io/covid-19-map/deat...</td>\n",
       "    </tr>\n",
       "    <tr>\n",
       "      <th>2020-07-11</th>\n",
       "      <td>Barbour</td>\n",
       "      <td>Alabama</td>\n",
       "      <td>1005.0</td>\n",
       "      <td>398</td>\n",
       "      <td>2</td>\n",
       "      <td>https://mwaugh0328.github.io/covid-19-map/case...</td>\n",
       "      <td>https://mwaugh0328.github.io/covid-19-map/deat...</td>\n",
       "    </tr>\n",
       "    <tr>\n",
       "      <th>2020-07-11</th>\n",
       "      <td>Bibb</td>\n",
       "      <td>Alabama</td>\n",
       "      <td>1007.0</td>\n",
       "      <td>224</td>\n",
       "      <td>1</td>\n",
       "      <td>https://mwaugh0328.github.io/covid-19-map/case...</td>\n",
       "      <td>https://mwaugh0328.github.io/covid-19-map/deat...</td>\n",
       "    </tr>\n",
       "    <tr>\n",
       "      <th>2020-07-11</th>\n",
       "      <td>Blount</td>\n",
       "      <td>Alabama</td>\n",
       "      <td>1009.0</td>\n",
       "      <td>307</td>\n",
       "      <td>1</td>\n",
       "      <td>https://mwaugh0328.github.io/covid-19-map/case...</td>\n",
       "      <td>https://mwaugh0328.github.io/covid-19-map/deat...</td>\n",
       "    </tr>\n",
       "  </tbody>\n",
       "</table>\n",
       "</div>"
      ],
      "text/plain": [
       "             county    state    fips  cases  deaths  \\\n",
       "date                                                  \n",
       "2020-07-11  Autauga  Alabama  1001.0    684      15   \n",
       "2020-07-11  Baldwin  Alabama  1003.0   1224      12   \n",
       "2020-07-11  Barbour  Alabama  1005.0    398       2   \n",
       "2020-07-11     Bibb  Alabama  1007.0    224       1   \n",
       "2020-07-11   Blount  Alabama  1009.0    307       1   \n",
       "\n",
       "                                          cases_file_location  \\\n",
       "date                                                            \n",
       "2020-07-11  https://mwaugh0328.github.io/covid-19-map/case...   \n",
       "2020-07-11  https://mwaugh0328.github.io/covid-19-map/case...   \n",
       "2020-07-11  https://mwaugh0328.github.io/covid-19-map/case...   \n",
       "2020-07-11  https://mwaugh0328.github.io/covid-19-map/case...   \n",
       "2020-07-11  https://mwaugh0328.github.io/covid-19-map/case...   \n",
       "\n",
       "                                         deaths_file_location  \n",
       "date                                                           \n",
       "2020-07-11  https://mwaugh0328.github.io/covid-19-map/deat...  \n",
       "2020-07-11  https://mwaugh0328.github.io/covid-19-map/deat...  \n",
       "2020-07-11  https://mwaugh0328.github.io/covid-19-map/deat...  \n",
       "2020-07-11  https://mwaugh0328.github.io/covid-19-map/deat...  \n",
       "2020-07-11  https://mwaugh0328.github.io/covid-19-map/deat...  "
      ]
     },
     "execution_count": 639,
     "metadata": {},
     "output_type": "execute_result"
    }
   ],
   "source": [
    "dfall.head()"
   ]
  },
  {
   "cell_type": "code",
   "execution_count": 640,
   "metadata": {},
   "outputs": [],
   "source": [
    "map_projection = \"epsg:2163\""
   ]
  },
  {
   "cell_type": "code",
   "execution_count": 641,
   "metadata": {},
   "outputs": [
    {
     "name": "stderr",
     "output_type": "stream",
     "text": [
      "C:\\Users\\mwaugh\\AppData\\Local\\Continuum\\anaconda3\\lib\\site-packages\\pyproj\\crs\\crs.py:53: FutureWarning: '+init=<authority>:<code>' syntax is deprecated. '<authority>:<code>' is the preferred initialization method. When making the change, be mindful of axis order changes: https://pyproj4.github.io/pyproj/stable/gotchas.html#axis-order-changes-in-proj-6\n",
      "  return _prepare_from_string(\" \".join(pjargs))\n"
     ]
    }
   ],
   "source": [
    "cwd = os.getcwd()\n",
    "\n",
    "county_shape = cwd + \"\\\\shapefiles\\\\lake\\\\ne_10m_lakes.shx\"\n",
    "\n",
    "lake_map = gpd.read_file(county_shape)\n",
    "\n",
    "lake_map = lake_map.to_crs({'init': map_projection})"
   ]
  },
  {
   "cell_type": "code",
   "execution_count": 642,
   "metadata": {},
   "outputs": [
    {
     "name": "stderr",
     "output_type": "stream",
     "text": [
      "C:\\Users\\mwaugh\\AppData\\Local\\Continuum\\anaconda3\\lib\\site-packages\\pyproj\\crs\\crs.py:53: FutureWarning: '+init=<authority>:<code>' syntax is deprecated. '<authority>:<code>' is the preferred initialization method. When making the change, be mindful of axis order changes: https://pyproj4.github.io/pyproj/stable/gotchas.html#axis-order-changes-in-proj-6\n",
      "  return _prepare_from_string(\" \".join(pjargs))\n"
     ]
    }
   ],
   "source": [
    "cwd = os.getcwd()\n",
    "\n",
    "county_shape = cwd + \"\\\\shapefiles\\\\land\\\\ne_50m_land.shx\"\n",
    "\n",
    "land_map = gpd.read_file(county_shape)\n",
    "\n",
    "land_map = land_map.to_crs({'init': map_projection})\n",
    "\n",
    "land_map = land_map.iloc[0:1200]"
   ]
  },
  {
   "cell_type": "code",
   "execution_count": 643,
   "metadata": {},
   "outputs": [
    {
     "name": "stderr",
     "output_type": "stream",
     "text": [
      "C:\\Users\\mwaugh\\AppData\\Local\\Continuum\\anaconda3\\lib\\site-packages\\pyproj\\crs\\crs.py:53: FutureWarning: '+init=<authority>:<code>' syntax is deprecated. '<authority>:<code>' is the preferred initialization method. When making the change, be mindful of axis order changes: https://pyproj4.github.io/pyproj/stable/gotchas.html#axis-order-changes-in-proj-6\n",
      "  return _prepare_from_string(\" \".join(pjargs))\n"
     ]
    }
   ],
   "source": [
    "cwd = os.getcwd()\n",
    "\n",
    "county_shape = cwd + \"\\\\shapefiles\\\\county\\\\tl_2017_us_county.shx\"\n",
    "\n",
    "us_map = gpd.read_file(county_shape)\n",
    "\n",
    "us_map = us_map.to_crs({'init': map_projection})"
   ]
  },
  {
   "cell_type": "code",
   "execution_count": 644,
   "metadata": {},
   "outputs": [],
   "source": [
    "us_map[\"geometry\"] = us_map[\"geometry\"].simplify(2000)\n",
    "# This was important. The geometry in the tigerline file si\n",
    "# too fine, orginal map was 350mb. simply basicly simplifies the geometry,\n",
    "# making the map take up less memory and load faster. Still not sure\n",
    "# what the number exactly means."
   ]
  },
  {
   "cell_type": "code",
   "execution_count": 645,
   "metadata": {},
   "outputs": [],
   "source": [
    "us_map[\"area_fips\"] = (us_map.STATEFP.astype(str) + us_map.COUNTYFP.astype(str)).astype(int)"
   ]
  },
  {
   "cell_type": "markdown",
   "metadata": {},
   "source": [
    "---\n",
    "\n",
    "###  Step \\#2 Merge and Clean\n",
    "\n",
    "The next couple of cells download the requisite shapefiles from the US census. They are unzipped in a folder called shapefiles and then county. So they are assuming some structure behind your folder setup. "
   ]
  },
  {
   "cell_type": "code",
   "execution_count": 646,
   "metadata": {},
   "outputs": [
    {
     "data": {
      "text/html": [
       "<div>\n",
       "<style scoped>\n",
       "    .dataframe tbody tr th:only-of-type {\n",
       "        vertical-align: middle;\n",
       "    }\n",
       "\n",
       "    .dataframe tbody tr th {\n",
       "        vertical-align: top;\n",
       "    }\n",
       "\n",
       "    .dataframe thead th {\n",
       "        text-align: right;\n",
       "    }\n",
       "</style>\n",
       "<table border=\"1\" class=\"dataframe\">\n",
       "  <thead>\n",
       "    <tr style=\"text-align: right;\">\n",
       "      <th></th>\n",
       "      <th>STATEFP</th>\n",
       "      <th>COUNTYFP</th>\n",
       "      <th>COUNTYNS</th>\n",
       "      <th>GEOID</th>\n",
       "      <th>NAME</th>\n",
       "      <th>NAMELSAD</th>\n",
       "      <th>LSAD</th>\n",
       "      <th>CLASSFP</th>\n",
       "      <th>MTFCC</th>\n",
       "      <th>CSAFP</th>\n",
       "      <th>CBSAFP</th>\n",
       "      <th>METDIVFP</th>\n",
       "      <th>FUNCSTAT</th>\n",
       "      <th>ALAND</th>\n",
       "      <th>AWATER</th>\n",
       "      <th>INTPTLAT</th>\n",
       "      <th>INTPTLON</th>\n",
       "      <th>geometry</th>\n",
       "      <th>area_fips</th>\n",
       "    </tr>\n",
       "  </thead>\n",
       "  <tbody>\n",
       "    <tr>\n",
       "      <th>0</th>\n",
       "      <td>31</td>\n",
       "      <td>039</td>\n",
       "      <td>00835841</td>\n",
       "      <td>31039</td>\n",
       "      <td>Cuming</td>\n",
       "      <td>Cuming County</td>\n",
       "      <td>06</td>\n",
       "      <td>H1</td>\n",
       "      <td>G4020</td>\n",
       "      <td>None</td>\n",
       "      <td>None</td>\n",
       "      <td>None</td>\n",
       "      <td>A</td>\n",
       "      <td>1477641638</td>\n",
       "      <td>10701538</td>\n",
       "      <td>+41.9158651</td>\n",
       "      <td>-096.7885168</td>\n",
       "      <td>POLYGON ((246290.041 -328619.667, 245963.100 -...</td>\n",
       "      <td>31039</td>\n",
       "    </tr>\n",
       "    <tr>\n",
       "      <th>1</th>\n",
       "      <td>53</td>\n",
       "      <td>069</td>\n",
       "      <td>01513275</td>\n",
       "      <td>53069</td>\n",
       "      <td>Wahkiakum</td>\n",
       "      <td>Wahkiakum County</td>\n",
       "      <td>06</td>\n",
       "      <td>H1</td>\n",
       "      <td>G4020</td>\n",
       "      <td>None</td>\n",
       "      <td>None</td>\n",
       "      <td>None</td>\n",
       "      <td>A</td>\n",
       "      <td>680956787</td>\n",
       "      <td>61588406</td>\n",
       "      <td>+46.2946377</td>\n",
       "      <td>-123.4244583</td>\n",
       "      <td>POLYGON ((-1770686.984 398793.664, -1772831.10...</td>\n",
       "      <td>53069</td>\n",
       "    </tr>\n",
       "    <tr>\n",
       "      <th>2</th>\n",
       "      <td>35</td>\n",
       "      <td>011</td>\n",
       "      <td>00933054</td>\n",
       "      <td>35011</td>\n",
       "      <td>De Baca</td>\n",
       "      <td>De Baca County</td>\n",
       "      <td>06</td>\n",
       "      <td>H1</td>\n",
       "      <td>G4020</td>\n",
       "      <td>None</td>\n",
       "      <td>None</td>\n",
       "      <td>None</td>\n",
       "      <td>A</td>\n",
       "      <td>6016761648</td>\n",
       "      <td>29147345</td>\n",
       "      <td>+34.3592729</td>\n",
       "      <td>-104.3686961</td>\n",
       "      <td>POLYGON ((-422754.447 -1210188.449, -442958.76...</td>\n",
       "      <td>35011</td>\n",
       "    </tr>\n",
       "    <tr>\n",
       "      <th>3</th>\n",
       "      <td>31</td>\n",
       "      <td>109</td>\n",
       "      <td>00835876</td>\n",
       "      <td>31109</td>\n",
       "      <td>Lancaster</td>\n",
       "      <td>Lancaster County</td>\n",
       "      <td>06</td>\n",
       "      <td>H1</td>\n",
       "      <td>G4020</td>\n",
       "      <td>339</td>\n",
       "      <td>30700</td>\n",
       "      <td>None</td>\n",
       "      <td>A</td>\n",
       "      <td>2169252486</td>\n",
       "      <td>22867561</td>\n",
       "      <td>+40.7835474</td>\n",
       "      <td>-096.6886584</td>\n",
       "      <td>POLYGON ((259511.654 -444450.123, 259130.939 -...</td>\n",
       "      <td>31109</td>\n",
       "    </tr>\n",
       "    <tr>\n",
       "      <th>4</th>\n",
       "      <td>31</td>\n",
       "      <td>129</td>\n",
       "      <td>00835886</td>\n",
       "      <td>31129</td>\n",
       "      <td>Nuckolls</td>\n",
       "      <td>Nuckolls County</td>\n",
       "      <td>06</td>\n",
       "      <td>H1</td>\n",
       "      <td>G4020</td>\n",
       "      <td>None</td>\n",
       "      <td>None</td>\n",
       "      <td>None</td>\n",
       "      <td>A</td>\n",
       "      <td>1489645186</td>\n",
       "      <td>1718484</td>\n",
       "      <td>+40.1764918</td>\n",
       "      <td>-098.0468422</td>\n",
       "      <td>POLYGON ((146978.459 -544334.301, 146407.623 -...</td>\n",
       "      <td>31129</td>\n",
       "    </tr>\n",
       "  </tbody>\n",
       "</table>\n",
       "</div>"
      ],
      "text/plain": [
       "  STATEFP COUNTYFP  COUNTYNS  GEOID       NAME          NAMELSAD LSAD CLASSFP  \\\n",
       "0      31      039  00835841  31039     Cuming     Cuming County   06      H1   \n",
       "1      53      069  01513275  53069  Wahkiakum  Wahkiakum County   06      H1   \n",
       "2      35      011  00933054  35011    De Baca    De Baca County   06      H1   \n",
       "3      31      109  00835876  31109  Lancaster  Lancaster County   06      H1   \n",
       "4      31      129  00835886  31129   Nuckolls   Nuckolls County   06      H1   \n",
       "\n",
       "   MTFCC CSAFP CBSAFP METDIVFP FUNCSTAT       ALAND    AWATER     INTPTLAT  \\\n",
       "0  G4020  None   None     None        A  1477641638  10701538  +41.9158651   \n",
       "1  G4020  None   None     None        A   680956787  61588406  +46.2946377   \n",
       "2  G4020  None   None     None        A  6016761648  29147345  +34.3592729   \n",
       "3  G4020   339  30700     None        A  2169252486  22867561  +40.7835474   \n",
       "4  G4020  None   None     None        A  1489645186   1718484  +40.1764918   \n",
       "\n",
       "       INTPTLON                                           geometry  area_fips  \n",
       "0  -096.7885168  POLYGON ((246290.041 -328619.667, 245963.100 -...      31039  \n",
       "1  -123.4244583  POLYGON ((-1770686.984 398793.664, -1772831.10...      53069  \n",
       "2  -104.3686961  POLYGON ((-422754.447 -1210188.449, -442958.76...      35011  \n",
       "3  -096.6886584  POLYGON ((259511.654 -444450.123, 259130.939 -...      31109  \n",
       "4  -098.0468422  POLYGON ((146978.459 -544334.301, 146407.623 -...      31129  "
      ]
     },
     "execution_count": 646,
     "metadata": {},
     "output_type": "execute_result"
    }
   ],
   "source": [
    "us_map.head()"
   ]
  },
  {
   "cell_type": "code",
   "execution_count": 647,
   "metadata": {},
   "outputs": [],
   "source": [
    "us_map = us_map.merge(dfall, left_on='area_fips',\n",
    "                      right_on = \"fips\", how = \"left\", indicator = True)"
   ]
  },
  {
   "cell_type": "markdown",
   "metadata": {},
   "source": [
    "The cell below fills in the NYC region with the NYC values. So in the hover map, when you hover over say Brookly, it will show the value for the NYC region. I then added a data note column that will inform the reader of this."
   ]
  },
  {
   "cell_type": "code",
   "execution_count": 648,
   "metadata": {},
   "outputs": [],
   "source": [
    "#Fill in Queens (36081), Bronx (36005, Richmond(36085), Brooklyn (36047)\n",
    "nyc_counties = [36081,36005,36085,36047]\n",
    "\n",
    "us_map.loc[us_map.area_fips.isin(nyc_counties), \"deaths\"] = us_map.loc[us_map.area_fips == 36061,\"deaths\"].values[0]\n",
    "\n",
    "us_map.loc[us_map.area_fips.isin(nyc_counties), \"cases\"] = us_map.loc[us_map.area_fips == 36061,\"cases\"].values[0]\n",
    "\n",
    "us_map.loc[us_map.area_fips.isin(nyc_counties), \"cases_file_location\"] = us_map.loc[us_map.area_fips == 36061,\n",
    "                                                                                    \"cases_file_location\"].values[0]\n",
    "\n",
    "us_map.loc[us_map.area_fips.isin(nyc_counties), \"deaths_file_location\"] = us_map.loc[us_map.area_fips == 36061,\n",
    "                                                                                     \"deaths_file_location\"].values[0]\n",
    "\n",
    "\n",
    "us_map[\"Notes\"] = \"\"\n",
    "\n",
    "all_nyc_counties = [36081,36005,36085,36047,36061]\n",
    "\n",
    "us_map.loc[us_map.area_fips.isin(all_nyc_counties), \"Notes\"] = \"NYC counties are treated as one region\""
   ]
  },
  {
   "cell_type": "code",
   "execution_count": 649,
   "metadata": {},
   "outputs": [
    {
     "data": {
      "text/html": [
       "<div>\n",
       "<style scoped>\n",
       "    .dataframe tbody tr th:only-of-type {\n",
       "        vertical-align: middle;\n",
       "    }\n",
       "\n",
       "    .dataframe tbody tr th {\n",
       "        vertical-align: top;\n",
       "    }\n",
       "\n",
       "    .dataframe thead th {\n",
       "        text-align: right;\n",
       "    }\n",
       "</style>\n",
       "<table border=\"1\" class=\"dataframe\">\n",
       "  <thead>\n",
       "    <tr style=\"text-align: right;\">\n",
       "      <th></th>\n",
       "      <th>STATEFP</th>\n",
       "      <th>COUNTYFP</th>\n",
       "      <th>COUNTYNS</th>\n",
       "      <th>GEOID</th>\n",
       "      <th>NAME</th>\n",
       "      <th>NAMELSAD</th>\n",
       "      <th>LSAD</th>\n",
       "      <th>CLASSFP</th>\n",
       "      <th>MTFCC</th>\n",
       "      <th>CSAFP</th>\n",
       "      <th>...</th>\n",
       "      <th>area_fips</th>\n",
       "      <th>county</th>\n",
       "      <th>state</th>\n",
       "      <th>fips</th>\n",
       "      <th>cases</th>\n",
       "      <th>deaths</th>\n",
       "      <th>cases_file_location</th>\n",
       "      <th>deaths_file_location</th>\n",
       "      <th>_merge</th>\n",
       "      <th>Notes</th>\n",
       "    </tr>\n",
       "  </thead>\n",
       "  <tbody>\n",
       "    <tr>\n",
       "      <th>1399</th>\n",
       "      <td>36</td>\n",
       "      <td>085</td>\n",
       "      <td>00974141</td>\n",
       "      <td>36085</td>\n",
       "      <td>Richmond</td>\n",
       "      <td>Richmond County</td>\n",
       "      <td>06</td>\n",
       "      <td>H6</td>\n",
       "      <td>G4020</td>\n",
       "      <td>408</td>\n",
       "      <td>...</td>\n",
       "      <td>36085</td>\n",
       "      <td>NaN</td>\n",
       "      <td>NaN</td>\n",
       "      <td>NaN</td>\n",
       "      <td>223382.0</td>\n",
       "      <td>22750.0</td>\n",
       "      <td>https://mwaugh0328.github.io/covid-19-map/case...</td>\n",
       "      <td>https://mwaugh0328.github.io/covid-19-map/deat...</td>\n",
       "      <td>left_only</td>\n",
       "      <td>NYC counties are treated as one region</td>\n",
       "    </tr>\n",
       "    <tr>\n",
       "      <th>2333</th>\n",
       "      <td>36</td>\n",
       "      <td>081</td>\n",
       "      <td>00974139</td>\n",
       "      <td>36081</td>\n",
       "      <td>Queens</td>\n",
       "      <td>Queens County</td>\n",
       "      <td>06</td>\n",
       "      <td>H6</td>\n",
       "      <td>G4020</td>\n",
       "      <td>408</td>\n",
       "      <td>...</td>\n",
       "      <td>36081</td>\n",
       "      <td>NaN</td>\n",
       "      <td>NaN</td>\n",
       "      <td>NaN</td>\n",
       "      <td>223382.0</td>\n",
       "      <td>22750.0</td>\n",
       "      <td>https://mwaugh0328.github.io/covid-19-map/case...</td>\n",
       "      <td>https://mwaugh0328.github.io/covid-19-map/deat...</td>\n",
       "      <td>left_only</td>\n",
       "      <td>NYC counties are treated as one region</td>\n",
       "    </tr>\n",
       "    <tr>\n",
       "      <th>2409</th>\n",
       "      <td>36</td>\n",
       "      <td>047</td>\n",
       "      <td>00974122</td>\n",
       "      <td>36047</td>\n",
       "      <td>Kings</td>\n",
       "      <td>Kings County</td>\n",
       "      <td>06</td>\n",
       "      <td>H6</td>\n",
       "      <td>G4020</td>\n",
       "      <td>408</td>\n",
       "      <td>...</td>\n",
       "      <td>36047</td>\n",
       "      <td>NaN</td>\n",
       "      <td>NaN</td>\n",
       "      <td>NaN</td>\n",
       "      <td>223382.0</td>\n",
       "      <td>22750.0</td>\n",
       "      <td>https://mwaugh0328.github.io/covid-19-map/case...</td>\n",
       "      <td>https://mwaugh0328.github.io/covid-19-map/deat...</td>\n",
       "      <td>left_only</td>\n",
       "      <td>NYC counties are treated as one region</td>\n",
       "    </tr>\n",
       "    <tr>\n",
       "      <th>2446</th>\n",
       "      <td>36</td>\n",
       "      <td>061</td>\n",
       "      <td>00974129</td>\n",
       "      <td>36061</td>\n",
       "      <td>New York</td>\n",
       "      <td>New York County</td>\n",
       "      <td>06</td>\n",
       "      <td>H6</td>\n",
       "      <td>G4020</td>\n",
       "      <td>408</td>\n",
       "      <td>...</td>\n",
       "      <td>36061</td>\n",
       "      <td>New York City</td>\n",
       "      <td>New York</td>\n",
       "      <td>36061.0</td>\n",
       "      <td>223382.0</td>\n",
       "      <td>22750.0</td>\n",
       "      <td>https://mwaugh0328.github.io/covid-19-map/case...</td>\n",
       "      <td>https://mwaugh0328.github.io/covid-19-map/deat...</td>\n",
       "      <td>both</td>\n",
       "      <td>NYC counties are treated as one region</td>\n",
       "    </tr>\n",
       "    <tr>\n",
       "      <th>3162</th>\n",
       "      <td>36</td>\n",
       "      <td>005</td>\n",
       "      <td>00974101</td>\n",
       "      <td>36005</td>\n",
       "      <td>Bronx</td>\n",
       "      <td>Bronx County</td>\n",
       "      <td>06</td>\n",
       "      <td>H6</td>\n",
       "      <td>G4020</td>\n",
       "      <td>408</td>\n",
       "      <td>...</td>\n",
       "      <td>36005</td>\n",
       "      <td>NaN</td>\n",
       "      <td>NaN</td>\n",
       "      <td>NaN</td>\n",
       "      <td>223382.0</td>\n",
       "      <td>22750.0</td>\n",
       "      <td>https://mwaugh0328.github.io/covid-19-map/case...</td>\n",
       "      <td>https://mwaugh0328.github.io/covid-19-map/deat...</td>\n",
       "      <td>left_only</td>\n",
       "      <td>NYC counties are treated as one region</td>\n",
       "    </tr>\n",
       "  </tbody>\n",
       "</table>\n",
       "<p>5 rows × 28 columns</p>\n",
       "</div>"
      ],
      "text/plain": [
       "     STATEFP COUNTYFP  COUNTYNS  GEOID      NAME         NAMELSAD LSAD  \\\n",
       "1399      36      085  00974141  36085  Richmond  Richmond County   06   \n",
       "2333      36      081  00974139  36081    Queens    Queens County   06   \n",
       "2409      36      047  00974122  36047     Kings     Kings County   06   \n",
       "2446      36      061  00974129  36061  New York  New York County   06   \n",
       "3162      36      005  00974101  36005     Bronx     Bronx County   06   \n",
       "\n",
       "     CLASSFP  MTFCC CSAFP  ... area_fips         county     state     fips  \\\n",
       "1399      H6  G4020   408  ...     36085            NaN       NaN      NaN   \n",
       "2333      H6  G4020   408  ...     36081            NaN       NaN      NaN   \n",
       "2409      H6  G4020   408  ...     36047            NaN       NaN      NaN   \n",
       "2446      H6  G4020   408  ...     36061  New York City  New York  36061.0   \n",
       "3162      H6  G4020   408  ...     36005            NaN       NaN      NaN   \n",
       "\n",
       "         cases   deaths                                cases_file_location  \\\n",
       "1399  223382.0  22750.0  https://mwaugh0328.github.io/covid-19-map/case...   \n",
       "2333  223382.0  22750.0  https://mwaugh0328.github.io/covid-19-map/case...   \n",
       "2409  223382.0  22750.0  https://mwaugh0328.github.io/covid-19-map/case...   \n",
       "2446  223382.0  22750.0  https://mwaugh0328.github.io/covid-19-map/case...   \n",
       "3162  223382.0  22750.0  https://mwaugh0328.github.io/covid-19-map/case...   \n",
       "\n",
       "                                   deaths_file_location     _merge  \\\n",
       "1399  https://mwaugh0328.github.io/covid-19-map/deat...  left_only   \n",
       "2333  https://mwaugh0328.github.io/covid-19-map/deat...  left_only   \n",
       "2409  https://mwaugh0328.github.io/covid-19-map/deat...  left_only   \n",
       "2446  https://mwaugh0328.github.io/covid-19-map/deat...       both   \n",
       "3162  https://mwaugh0328.github.io/covid-19-map/deat...  left_only   \n",
       "\n",
       "                                       Notes  \n",
       "1399  NYC counties are treated as one region  \n",
       "2333  NYC counties are treated as one region  \n",
       "2409  NYC counties are treated as one region  \n",
       "2446  NYC counties are treated as one region  \n",
       "3162  NYC counties are treated as one region  \n",
       "\n",
       "[5 rows x 28 columns]"
      ]
     },
     "execution_count": 649,
     "metadata": {},
     "output_type": "execute_result"
    }
   ],
   "source": [
    "all_nyc_counties = [36081,36005,36085,36047,36061]\n",
    "\n",
    "us_map.loc[us_map.area_fips.isin(all_nyc_counties)]"
   ]
  },
  {
   "cell_type": "code",
   "execution_count": 650,
   "metadata": {},
   "outputs": [],
   "source": [
    "#us_map[[\"NAME\",\"NAMELSAD\",\"county\",\"state\", \"cases\"]].head(48)"
   ]
  },
  {
   "cell_type": "markdown",
   "metadata": {},
   "source": [
    "I'm from Alaska, so this next step is always painfull. Drop states and territories who are not part of the \"lower 48\", contiguous US. Still not clear how fix this in geopandas."
   ]
  },
  {
   "cell_type": "code",
   "execution_count": 651,
   "metadata": {},
   "outputs": [],
   "source": [
    "us_map.set_index(\"STATEFP\", inplace = True)\n",
    "\n",
    "drop_list = [\"02\",\"15\",\"72\",\"78\",\"69\",\"66\",\"60\",]\n",
    "\n",
    "us_map.drop(drop_list, inplace = True)"
   ]
  },
  {
   "cell_type": "code",
   "execution_count": 652,
   "metadata": {},
   "outputs": [
    {
     "name": "stderr",
     "output_type": "stream",
     "text": [
      "C:\\Users\\mwaugh\\AppData\\Local\\Continuum\\anaconda3\\lib\\site-packages\\pyproj\\crs\\crs.py:53: FutureWarning: '+init=<authority>:<code>' syntax is deprecated. '<authority>:<code>' is the preferred initialization method. When making the change, be mindful of axis order changes: https://pyproj4.github.io/pyproj/stable/gotchas.html#axis-order-changes-in-proj-6\n",
      "  return _prepare_from_string(\" \".join(pjargs))\n"
     ]
    }
   ],
   "source": [
    "state_shape = cwd + \"\\\\shapefiles\\\\state\\\\tl_2017_us_state.shx\"\n",
    "\n",
    "state_map = gpd.read_file(state_shape)\n",
    "\n",
    "state_map = state_map.to_crs({'init': map_projection})\n",
    "\n",
    "state_map[\"geometry\"] = state_map[\"geometry\"].simplify(200)"
   ]
  },
  {
   "cell_type": "code",
   "execution_count": 653,
   "metadata": {},
   "outputs": [],
   "source": [
    "state_fp_dict = dict(zip(state_map.STATEFP, state_map.STUSPS))"
   ]
  },
  {
   "cell_type": "code",
   "execution_count": 654,
   "metadata": {},
   "outputs": [],
   "source": [
    "state_map.set_index(\"STATEFP\", inplace = True)\n",
    "\n",
    "drop_list = [\"02\",\"15\",\"72\",\"78\",\"69\",\"66\",\"60\",]\n",
    "\n",
    "state_map.drop(drop_list, inplace = True)"
   ]
  },
  {
   "cell_type": "code",
   "execution_count": 655,
   "metadata": {},
   "outputs": [],
   "source": [
    "us_map.reset_index(inplace = True)"
   ]
  },
  {
   "cell_type": "code",
   "execution_count": 656,
   "metadata": {},
   "outputs": [],
   "source": [
    "us_map[\"STSPS\"] = us_map[\"STATEFP\"].map(state_fp_dict)"
   ]
  },
  {
   "cell_type": "code",
   "execution_count": 657,
   "metadata": {},
   "outputs": [],
   "source": [
    "us_map[\"NAME\"] = us_map[\"NAME\"] + \" County, \" + us_map[\"STSPS\"]"
   ]
  },
  {
   "cell_type": "code",
   "execution_count": 658,
   "metadata": {},
   "outputs": [],
   "source": [
    "us_map.set_index(\"STATEFP\", inplace = True)"
   ]
  },
  {
   "cell_type": "code",
   "execution_count": 659,
   "metadata": {},
   "outputs": [],
   "source": [
    "#us_map[\"cases\"].replace(\"nan\", np.nan, inplace = True)\n",
    "\n",
    "#us_map[\"cases\"] = us_map[\"cases\"].str.replace(',','')\n",
    "\n",
    "#us_map[\"cases\"] = us_map[\"cases\"].astype(int)\n",
    "\n",
    "us_map[\"cases_label\"] = us_map[\"cases\"].round(0)\n",
    "\n",
    "us_map[\"cases_label\"] = us_map[\"cases_label\"].map('{:,.0f}'.format)\n",
    "\n",
    "us_map[\"deaths_label\"] = us_map[\"deaths\"].round(0)\n",
    "\n",
    "us_map[\"deaths_label\"] = us_map[\"deaths_label\"].map('{:,.0f}'.format)"
   ]
  },
  {
   "cell_type": "markdown",
   "metadata": {},
   "source": [
    "#### Add Census Data\n",
    "\n",
    "Here I add this in. MY api key is posted here, please be respectfull of it."
   ]
  },
  {
   "cell_type": "code",
   "execution_count": 660,
   "metadata": {},
   "outputs": [],
   "source": [
    "my_api_key = '34e40301bda77077e24c859c6c6c0b721ad73fc7'\n",
    "# This is my api_key, # don't abuse this.\n",
    "\n",
    "c = Census(my_api_key)\n",
    "# This will create an object c which has methods associated with it.\n",
    "# We will see  these below.\n",
    "\n",
    "code = (\"NAME\",\"B01001_001E\") \n",
    "# Get more stuff from the cencuss if we want...\n",
    "\n",
    "county_2017 = pd.DataFrame(c.acs5.get(code, \n",
    "                                         {'for': 'county:*'}, year=2017))\n",
    "                                         # Same deal, but we specify county then the wild card\n",
    "                                         # On the example page, there are ways do do this, only by state\n",
    "        \n",
    "county_2017 = county_2017.rename(columns = {\"B01001_001E\":\"2017_population\"})\n",
    "\n",
    "county_2017[\"GEOFIPS\"] = (county_2017[\"state\"] + county_2017[\"county\"]).astype(int)\n",
    "\n",
    "county_2017[\"2017_population\"] = county_2017[\"2017_population\"].astype(float)\n",
    "\n",
    "county_2017.set_index([\"GEOFIPS\"], inplace = True)"
   ]
  },
  {
   "cell_type": "code",
   "execution_count": 661,
   "metadata": {},
   "outputs": [
    {
     "data": {
      "text/html": [
       "<div>\n",
       "<style scoped>\n",
       "    .dataframe tbody tr th:only-of-type {\n",
       "        vertical-align: middle;\n",
       "    }\n",
       "\n",
       "    .dataframe tbody tr th {\n",
       "        vertical-align: top;\n",
       "    }\n",
       "\n",
       "    .dataframe thead th {\n",
       "        text-align: right;\n",
       "    }\n",
       "</style>\n",
       "<table border=\"1\" class=\"dataframe\">\n",
       "  <thead>\n",
       "    <tr style=\"text-align: right;\">\n",
       "      <th></th>\n",
       "      <th>NAME</th>\n",
       "      <th>2017_population</th>\n",
       "      <th>state</th>\n",
       "      <th>county</th>\n",
       "    </tr>\n",
       "    <tr>\n",
       "      <th>GEOFIPS</th>\n",
       "      <th></th>\n",
       "      <th></th>\n",
       "      <th></th>\n",
       "      <th></th>\n",
       "    </tr>\n",
       "  </thead>\n",
       "  <tbody>\n",
       "    <tr>\n",
       "      <th>72047</th>\n",
       "      <td>Corozal Municipio, Puerto Rico</td>\n",
       "      <td>34933.0</td>\n",
       "      <td>72</td>\n",
       "      <td>047</td>\n",
       "    </tr>\n",
       "    <tr>\n",
       "      <th>72095</th>\n",
       "      <td>Maunabo Municipio, Puerto Rico</td>\n",
       "      <td>11297.0</td>\n",
       "      <td>72</td>\n",
       "      <td>095</td>\n",
       "    </tr>\n",
       "    <tr>\n",
       "      <th>72111</th>\n",
       "      <td>Peñuelas Municipio, Puerto Rico</td>\n",
       "      <td>21661.0</td>\n",
       "      <td>72</td>\n",
       "      <td>111</td>\n",
       "    </tr>\n",
       "    <tr>\n",
       "      <th>72113</th>\n",
       "      <td>Ponce Municipio, Puerto Rico</td>\n",
       "      <td>148863.0</td>\n",
       "      <td>72</td>\n",
       "      <td>113</td>\n",
       "    </tr>\n",
       "    <tr>\n",
       "      <th>72131</th>\n",
       "      <td>San Sebastián Municipio, Puerto Rico</td>\n",
       "      <td>38970.0</td>\n",
       "      <td>72</td>\n",
       "      <td>131</td>\n",
       "    </tr>\n",
       "  </tbody>\n",
       "</table>\n",
       "</div>"
      ],
      "text/plain": [
       "                                         NAME  2017_population state county\n",
       "GEOFIPS                                                                    \n",
       "72047          Corozal Municipio, Puerto Rico          34933.0    72    047\n",
       "72095          Maunabo Municipio, Puerto Rico          11297.0    72    095\n",
       "72111         Peñuelas Municipio, Puerto Rico          21661.0    72    111\n",
       "72113            Ponce Municipio, Puerto Rico         148863.0    72    113\n",
       "72131    San Sebastián Municipio, Puerto Rico          38970.0    72    131"
      ]
     },
     "execution_count": 661,
     "metadata": {},
     "output_type": "execute_result"
    }
   ],
   "source": [
    "county_2017.head()"
   ]
  },
  {
   "cell_type": "code",
   "execution_count": 662,
   "metadata": {},
   "outputs": [],
   "source": [
    "us_map = us_map.merge(county_2017[[\"2017_population\"]], \n",
    "                      left_on='area_fips', right_on = \"GEOFIPS\", how = \"left\")"
   ]
  },
  {
   "cell_type": "code",
   "execution_count": 663,
   "metadata": {},
   "outputs": [],
   "source": [
    "us_map[\"pop_label\"] = us_map[\"2017_population\"].map('{:,.0f}'.format)"
   ]
  },
  {
   "cell_type": "code",
   "execution_count": 664,
   "metadata": {},
   "outputs": [],
   "source": [
    "q_cases = [0,1,5,10,100,250,500,1000,5000,10000,np.inf]"
   ]
  },
  {
   "cell_type": "code",
   "execution_count": 665,
   "metadata": {},
   "outputs": [],
   "source": [
    "\n",
    "us_map[\"q_cases\"]= pd.cut(us_map[\"cases\"],q_cases, labels=range(0,10))\n",
    "us_map[\"q_deaths\"]= pd.cut(us_map[\"deaths\"],q_cases, labels=range(0,10))\n",
    "\n",
    "us_map[\"q_cases\"].fillna(0, inplace = True)\n",
    "us_map[\"q_deaths\"].fillna(0, inplace = True)\n"
   ]
  },
  {
   "cell_type": "code",
   "execution_count": 666,
   "metadata": {},
   "outputs": [],
   "source": [
    "us_map[\"cases_label\"].replace(\"nan\", \"N.R.\", inplace = True)\n",
    "us_map[\"deaths_label\"].replace(\"nan\", \"N.R.\", inplace = True)"
   ]
  },
  {
   "cell_type": "markdown",
   "metadata": {},
   "source": [
    "The final issue is to create the borders associated with the great lakes. The issue is that the tigerline shape files just extend boundries into the waterline. And the associated coastline maps are (i) not polygons and (ii) looked messed up. So per above, I found another shape file of lakes. Then I will use geopandas built in set operations to essentially \"punch out\" the holes associated with the great lakes. \n",
    "\n",
    "[https://geopandas.org/set_operations.html](https://geopandas.org/set_operations.html)\n",
    "\n",
    "**Note** for teaching purposes, it's worth messing around with the ``how`` operations to understand what is going on here."
   ]
  },
  {
   "cell_type": "code",
   "execution_count": 667,
   "metadata": {},
   "outputs": [],
   "source": [
    "# This operation will take care of the coastline\n",
    "\n",
    "us_map = gpd.overlay(us_map, land_map,  how='intersection')"
   ]
  },
  {
   "cell_type": "code",
   "execution_count": 668,
   "metadata": {},
   "outputs": [],
   "source": [
    "great_lakes = [\"Lake Superior\", \"Lake Michigan\", \"Lake Erie\",\"Lake Superior\"\"Lake Huron\"]\n",
    "\n",
    "us_map = gpd.overlay(us_map, lake_map[lake_map.name.isin(great_lakes)],  how='difference')\n",
    "# this is the key operation...note that the order matters on the difference operation. output is same "
   ]
  },
  {
   "cell_type": "code",
   "execution_count": 669,
   "metadata": {},
   "outputs": [],
   "source": [
    "state_map = gpd.overlay(state_map, land_map,  how='intersection')\n",
    "\n",
    "state_map = gpd.overlay(state_map, lake_map[lake_map.name.isin(great_lakes)],  how='difference')\n",
    "# Do the same thing for the state map"
   ]
  },
  {
   "cell_type": "code",
   "execution_count": 670,
   "metadata": {},
   "outputs": [],
   "source": [
    "#panda_path = \"https://mwaugh0328.github.io/covid-19-map/angry_panda.gif\"\n",
    "\n",
    "#us_map[\"cases_file_location\"].fillna(panda_path, inplace = True)\n",
    "\n",
    "#crona_path = \"https://media.giphy.com/media/dVuyBgq2z5gVBkFtDc/giphy.gif\"\n",
    "\n",
    "#us_map[\"deaths_file_location\"].fillna(crona_path, inplace = True)"
   ]
  },
  {
   "cell_type": "code",
   "execution_count": 671,
   "metadata": {},
   "outputs": [],
   "source": [
    "fill_list = [\"https://mwaugh0328.github.io/covid-19-map/angry_panda.gif\", \n",
    "             \"https://media.giphy.com/media/dVuyBgq2z5gVBkFtDc/giphy.gif\",\n",
    "            \"https://media.giphy.com/media/JRsY1oIVA7IetTkKVO/giphy.gif\"]\n",
    "\n",
    "us_map[\"deaths_file_location\"].fillna(pd.Series(np.random.choice(fill_list, size=len(us_map.index))), inplace = True)\n",
    "\n",
    "us_map[\"cases_file_location\"].fillna(pd.Series(np.random.choice(fill_list, size=len(us_map.index))), inplace = True)"
   ]
  },
  {
   "cell_type": "markdown",
   "metadata": {},
   "source": [
    "---\n",
    "\n",
    "### Step \\# 3. Create Live/html map\n",
    "\n",
    "This took a huge amount of effort to all sort out form bokeh's documentation and other resources. It works and generates something really great in my opinion. \n",
    "\n",
    "Note, need to have a folder called ``docs`` below the working directory. It will save the ``.html`` file there. Then to see the map, just open the ``.html`` file in a web browswer.\n",
    "\n",
    "**Updated** the code was modified to create ``tabs`` where the user could [select the measure](https://docs.bokeh.org/en/latest/docs/user_guide/interaction/widgets.html). In this case it will creat two tabs one for cases, one for deaths. This is very simple. Just great two mapping objects and then combine them using this ``tab`` function.\n",
    "\n",
    "**Update II** now the hover tool incoperates a plot of the time series. Essentially, I closely studied and followed the example [here](https://docs.bokeh.org/en/latest/docs/user_guide/tools.html#custom-tooltip) within the bokeh documentation."
   ]
  },
  {
   "cell_type": "code",
   "execution_count": 672,
   "metadata": {},
   "outputs": [],
   "source": [
    "import json\n",
    "from bokeh.io import show\n",
    "from bokeh.models import (CDSView, ColorBar, ColumnDataSource,\n",
    "                          CustomJS, CustomJSFilter, \n",
    "                          GeoJSONDataSource, HoverTool,\n",
    "                          LinearColorMapper, Slider)\n",
    "from bokeh.layouts import column, row, widgetbox\n",
    "from bokeh.palettes import brewer\n",
    "from bokeh.plotting import figure\n",
    "from bokeh.models import Title\n",
    "from bokeh.layouts import gridplot\n",
    "\n",
    "from bokeh.plotting import figure, save\n",
    "from bokeh.models import Panel, Tabs\n",
    "\n",
    "from bokeh.resources import CDN\n",
    "from bokeh.embed import file_html\n",
    "\n",
    "from bokeh.io import output_file, show\n",
    "from bokeh.models import Div\n",
    "\n",
    "# Input GeoJSON source that contains features for plotting\n",
    "#geosource = GeoJSONDataSource(geojson = us_map.to_json())"
   ]
  },
  {
   "cell_type": "markdown",
   "metadata": {},
   "source": [
    "This is cell containst stuff that is common across the two plots"
   ]
  },
  {
   "cell_type": "code",
   "execution_count": 673,
   "metadata": {},
   "outputs": [],
   "source": [
    "state_geosource = GeoJSONDataSource(geojson = state_map.to_json())\n",
    "\n",
    "#coast_geosource = GeoJSONDataSource(geojson = coast_map.to_json())\n",
    "\n",
    "geosource = GeoJSONDataSource(geojson = us_map.to_json())\n",
    "\n",
    "palette = brewer['RdBu'][10]\n",
    "\n",
    "#https://docs.bokeh.org/en/latest/docs/reference/palettes.html\n",
    "\n",
    "color_mapper = LinearColorMapper(palette = palette, low = 0, high = 9)\n",
    "\n",
    "tick_labels = {2:str(q_cases[2]), \n",
    "              4:str(q_cases[4]), 6:str(q_cases[6]), 8 :str(q_cases[9])}"
   ]
  },
  {
   "cell_type": "markdown",
   "metadata": {},
   "source": [
    "This cell contains the first \"tab\" which is number of cases"
   ]
  },
  {
   "cell_type": "code",
   "execution_count": 674,
   "metadata": {},
   "outputs": [],
   "source": [
    "title = \"Covid-19 Cases by County as of \" + latest_date + \", Total Cases: \" + f\"{total:,d}\"\n",
    "\n",
    "\n",
    "\n",
    "color_bar = ColorBar(color_mapper = color_mapper, \n",
    "                     label_standoff = 8,\n",
    "                     width = 20, height = 420,\n",
    "                     border_line_color = None,\n",
    "                     orientation = \"vertical\",\n",
    "                     location=(0,0), major_label_overrides = tick_labels,\n",
    "                     major_tick_line_alpha = .25)\n",
    "\n",
    "# Create figure object.\n",
    "p = figure( \n",
    "           plot_height = 600 ,\n",
    "           plot_width = 950, \n",
    "           toolbar_location = 'below',\n",
    "           tools = \"box_zoom, reset\")\n",
    "\n",
    "descip = \"Colorbar by # of covid-19 cases; Hover tool plots cases by day.\"\n",
    "descip = descip + \"Data from https://github.com/nytimes/covid-19-data\"\n",
    "p.add_layout(Title(text=descip, text_font_style=\"italic\", text_font_size=\"9pt\"), 'above')\n",
    "p.add_layout(Title(text=title, text_font_size=\"11pt\"), 'above')\n",
    "\n",
    "author = \"Created by Michael Waugh, NYU-Stern and NBER, www.waugheconomics.com\"\n",
    "p.add_layout(Title(text=author, text_font_style=\"italic\", text_font_size=\"9pt\"), 'below')\n",
    "\n",
    "\n",
    "p.xgrid.grid_line_color = None\n",
    "p.ygrid.grid_line_color = None\n",
    "# Add patch renderer to figure.\n",
    "\n",
    "states = p.patches('xs','ys', source = geosource,\n",
    "                   fill_color = {\"field\" :'q_cases',\n",
    "                                 \"transform\" : color_mapper},\n",
    "                   line_color = \"gray\", \n",
    "                   line_width = 0.25, \n",
    "                   fill_alpha = 1)\n",
    "\n",
    "state_line = p.multi_line('xs','ys', source = state_geosource,\n",
    "                   line_color = \"black\", \n",
    "                   line_width = 0.5)\n",
    "\n",
    "#coast_line = p.multi_line('xs','ys', source = coast_geosource,\n",
    "#                   line_color = \"black\", \n",
    "#                   line_width = 0.5)\n",
    "# Create hover tool\n",
    "\n",
    "TOOLTIPS = \"\"\"\n",
    "    <div style=\"background-color:#F5F5F5; opacity: 0.95;\">\n",
    "        <div style = \"text-align:center;\">\n",
    "            <span style=\"font-size: 12px; font-weight: bold;\">@NAME\n",
    "        </div>\n",
    "        <div>\n",
    "            <img\n",
    "                src=\"@cases_file_location\" height=\"200\" alt=\"@cases_file_location\" width=\"350\"\n",
    "                style=\"float: center; margin: 1px 1px 1px 1px; opacity: 0.95;\"\n",
    "                border=\"0\"\n",
    "            ></img>\n",
    "        </div>\n",
    "        <div style = \"text-align:center;\">\n",
    "            <span style=\"font-size: 12px; font-weight: bold\">Population: @pop_label &nbsp &nbsp Cases: @cases_label &nbsp &nbsp \n",
    "            Deaths: @deaths_label</span>\n",
    "        </div>\n",
    "    </div>\n",
    "\"\"\"\n",
    "\n",
    "p.add_tools(HoverTool(renderers = [states],\n",
    "                      tooltips = TOOLTIPS))\n",
    "\n",
    "#### Some features to make it a bit nicer. \n",
    "\n",
    "p.axis.visible = False\n",
    "p.background_fill_color = \"grey\"\n",
    "p.background_fill_alpha = 0.25\n",
    "\n",
    "p.border_fill_color = \"#F5F5F5\"\n",
    "color_bar.background_fill_color = \"#F5F5F5\"\n",
    "\n",
    "p.toolbar.autohide = True\n",
    "\n",
    "p.add_layout(color_bar, \"right\")\n",
    "\n",
    "## Send to doc file, create a webpage from doc file on github\n",
    "# then had weebly webiste point to that .html file. That's how\n",
    "# I got this to work.\n",
    "###################################3\n",
    "#source = ColumnDataSource(source = geosource)\n",
    "\n",
    "#https://docs.bokeh.org/en/latest/docs/user_guide/tools.html#custom-tooltip\n",
    "\n",
    "#show(pbar)\n",
    "#######################################33\n"
   ]
  },
  {
   "cell_type": "code",
   "execution_count": 675,
   "metadata": {},
   "outputs": [],
   "source": [
    "title_death = \"Covid-19 Deaths by County as of \" + latest_date + \", Total Deaths: \" + f\"{total_deaths:,d}\"\n",
    "\n",
    "color_bar = ColorBar(color_mapper = color_mapper, \n",
    "                     label_standoff = 8,\n",
    "                     width = 20, height = 420,\n",
    "                     border_line_color = None,\n",
    "                     orientation = \"vertical\",\n",
    "                     location=(0,0), major_label_overrides = tick_labels,\n",
    "                     major_tick_line_alpha = .25)\n",
    "\n",
    "# Create figure object.\n",
    "pdth = figure( \n",
    "           plot_height = 600 ,\n",
    "           plot_width = 950, \n",
    "           toolbar_location = 'below',\n",
    "           tools = \"box_zoom, reset\")\n",
    "\n",
    "descip = \"Colorbar by # of covid-19 cases; Hover tool plots cases by day.\"\n",
    "descip = descip + \" Data from https://github.com/nytimes/covid-19-data\"\n",
    "pdth.add_layout(Title(text=descip, text_font_style=\"italic\", text_font_size=\"9pt\"), 'above')\n",
    "pdth.add_layout(Title(text=title_death, text_font_size=\"11pt\"), 'above')\n",
    "\n",
    "author = \"Created by Michael Waugh, NYU-Stern and NBER, www.waugheconomics.com\"\n",
    "pdth.add_layout(Title(text=author, text_font_style=\"italic\", text_font_size=\"9pt\"), 'below')\n",
    "\n",
    "pdth.xgrid.grid_line_color = None\n",
    "pdth.ygrid.grid_line_color = None\n",
    "# Add patch renderer to figure.\n",
    "\n",
    "states = pdth.patches('xs','ys', source = geosource,\n",
    "                   fill_color = {\"field\" :'q_deaths',\n",
    "                                 \"transform\" : color_mapper},\n",
    "                   line_color = \"gray\", \n",
    "                   line_width = 0.25, \n",
    "                   fill_alpha = 1)\n",
    "\n",
    "state_line = pdth.multi_line('xs','ys', source = state_geosource,\n",
    "                   line_color = \"black\", \n",
    "                   line_width = 0.5)\n",
    "\n",
    "TOOLTIPS = \"\"\"\n",
    "    <div style=\"background-color:#F5F5F5; opacity: 0.95;\">\n",
    "        <div style = \"text-align:center;\">\n",
    "            <span style=\"font-size: 12px; font-weight: bold;\">@NAME\n",
    "        </div>\n",
    "        <div>\n",
    "            <img\n",
    "                src=\"@deaths_file_location\" height=\"200\" alt=\"@deaths_file_location\" width=\"350\"\n",
    "                style=\"float: center; margin: 1px 1px 1px 1px; opacity: 0.95;\"\n",
    "                border=\"0\"\n",
    "            ></img>\n",
    "        </div>\n",
    "        <div style = \"text-align:center;\">\n",
    "            <span style=\"font-size: 12px; font-weight: bold\">Population: @pop_label &nbsp &nbsp Cases: @cases_label &nbsp &nbsp \n",
    "            Deaths: @deaths_label</span>\n",
    "        </div>\n",
    "    </div>\n",
    "\"\"\"\n",
    "\n",
    "pdth.add_tools(HoverTool(renderers = [states],\n",
    "                      tooltips = TOOLTIPS))\n",
    "\n",
    "#### Some features to make it a bit nicer. \n",
    "\n",
    "pdth.axis.visible = False\n",
    "pdth.background_fill_color = \"grey\"\n",
    "pdth.background_fill_alpha = 0.25\n",
    "\n",
    "pdth.border_fill_color = \"#F5F5F5\"\n",
    "color_bar.background_fill_color = \"#F5F5F5\"\n",
    "\n",
    "pdth.toolbar.autohide = True\n",
    "\n",
    "pdth.add_layout(color_bar, \"right\")\n",
    "\n",
    "## Send to doc file, create a webpage from doc file on github\n",
    "# then had weebly webiste point to that .html file. That's how\n",
    "# I got this to work."
   ]
  },
  {
   "cell_type": "code",
   "execution_count": 676,
   "metadata": {},
   "outputs": [
    {
     "name": "stderr",
     "output_type": "stream",
     "text": [
      "C:\\Users\\mwaugh\\AppData\\Local\\Continuum\\anaconda3\\lib\\site-packages\\bokeh\\io\\saving.py:125: UserWarning: save() called but no resources were supplied and output_file(...) was never called, defaulting to resources.CDN\n",
      "  warn(\"save() called but no resources were supplied and output_file(...) was never called, defaulting to resources.CDN\")\n",
      "C:\\Users\\mwaugh\\AppData\\Local\\Continuum\\anaconda3\\lib\\site-packages\\bokeh\\io\\saving.py:138: UserWarning: save() called but no title was supplied and output_file(...) was never called, using default title 'Bokeh Plot'\n",
      "  warn(\"save() called but no title was supplied and output_file(...) was never called, using default title 'Bokeh Plot'\")\n"
     ]
    }
   ],
   "source": [
    "tab1 = Panel(child=p, title=\"Cases\")\n",
    "tab2 = Panel(child=pdth, title=\"Deaths\")\n",
    "\n",
    "tabs = Tabs(tabs=[ tab1, tab2 ])\n",
    "\n",
    "file_path = os.getcwd()\n",
    "\n",
    "doc_path = file_path +\"\\\\docs\"\n",
    "\n",
    "outfp = doc_path + \"\\\\us_covid_map.html\"\n",
    "\n",
    "# Save the map\n",
    "save(tabs, outfp)\n",
    "\n",
    "# Not sure if this is important, but seemed to start working once\n",
    "# I ran it\n",
    "html = file_html(tabs, CDN, outfp)"
   ]
  },
  {
   "cell_type": "code",
   "execution_count": null,
   "metadata": {},
   "outputs": [],
   "source": []
  }
 ],
 "metadata": {
  "kernelspec": {
   "display_name": "Python 3",
   "language": "python",
   "name": "python3"
  },
  "language_info": {
   "codemirror_mode": {
    "name": "ipython",
    "version": 3
   },
   "file_extension": ".py",
   "mimetype": "text/x-python",
   "name": "python",
   "nbconvert_exporter": "python",
   "pygments_lexer": "ipython3",
   "version": "3.7.7"
  }
 },
 "nbformat": 4,
 "nbformat_minor": 4
}
